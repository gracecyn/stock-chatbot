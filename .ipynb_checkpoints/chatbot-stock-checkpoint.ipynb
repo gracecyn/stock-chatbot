{
 "cells": [
  {
   "cell_type": "code",
   "execution_count": 2,
   "metadata": {},
   "outputs": [],
   "source": [
    "import random\n",
    "import re\n",
    "import spacy\n",
    "import numpy as np\n",
    "import json\n",
    "import string\n",
    "from rasa_nlu.training_data import load_data\n",
    "from rasa_nlu.config import RasaNLUModelConfig\n",
    "from rasa_nlu.model import Trainer\n",
    "from rasa_nlu import config\n",
    "from iexfinance.stocks import Stock\n",
    "from wxpy import *"
   ]
  },
  {
   "cell_type": "code",
   "execution_count": 3,
   "metadata": {},
   "outputs": [],
   "source": [
    "#Create user and bot template\n",
    "bot_template = \"BOT : {0}\"\n",
    "user_template = \"USER : {0}\""
   ]
  },
  {
   "cell_type": "code",
   "execution_count": 4,
   "metadata": {},
   "outputs": [
    {
     "name": "stdout",
     "output_type": "stream",
     "text": [
      "Fitting 2 folds for each of 6 candidates, totalling 12 fits\n"
     ]
    },
    {
     "name": "stderr",
     "output_type": "stream",
     "text": [
      "[Parallel(n_jobs=1)]: Using backend SequentialBackend with 1 concurrent workers.\n",
      "[Parallel(n_jobs=1)]: Done  12 out of  12 | elapsed:    0.0s finished\n"
     ]
    }
   ],
   "source": [
    "# Create a trainer that uses this config\n",
    "trainer = Trainer(config.load(\"config_spacy.yml\"))\n",
    "\n",
    "# Load the training data\n",
    "training_data = load_data('training-data.json')\n",
    "\n",
    "# Create an interpreter by training the model\n",
    "interpreter = trainer.train(training_data)\n"
   ]
  },
  {
   "cell_type": "code",
   "execution_count": 5,
   "metadata": {},
   "outputs": [],
   "source": [
    "#Define basical responses which robot can respond\n",
    "responses = { 'greet': ['Hello you!', \n",
    "                       'Nice to meet you!', \n",
    "                       'Hi!', \n",
    "                       'How are you!'], \n",
    "             'ask_usage': ['I am a stock query robot',\n",
    "                       'I am a robot that help you search for stock information.', \n",
    "                       'I am a robot that can query stock information for you.'],\n",
    "             'thankyou': ['My pleasure! What else can I do for you?', \n",
    "                         'You are welcome! Do you need more information?'\n",
    "                         ''],\n",
    "             'bye': ['Bye!', \n",
    "                         'Byebye!',\n",
    "                         'Thank you for using me!:)',\n",
    "                         'See you!' ],\n",
    "             'default': ['Sorry, I could not understand you.',\n",
    "                         'Sorry, I do not understand what you said.',\n",
    "                         'I don not undersatand you, can you tell me what you want more clearly?']\n",
    "            }"
   ]
  },
  {
   "cell_type": "code",
   "execution_count": 6,
   "metadata": {},
   "outputs": [],
   "source": [
    "# Define basical respond() which can recognize user intent and give proper response\n",
    "def respond(message):\n",
    "    # Concatenate the user's message to the end of a standard bot respone\n",
    "    data = interpreter.parse(message)\n",
    "    intent = data[\"intent\"]['name']\n",
    "    if intent in responses:\n",
    "        # Return a random matching response\n",
    "        bot_message = random.choice(responses[intent])\n",
    "    else:\n",
    "        bot_message = chitchat_response(message)\n",
    "    return bot_message"
   ]
  },
  {
   "cell_type": "code",
   "execution_count": 7,
   "metadata": {},
   "outputs": [],
   "source": [
    "# Define chitchat_response()\n",
    "def chitchat_response(message):\n",
    "    # Call match_rule()\n",
    "    response, var = match_rule(rules, message)\n",
    "    # Return none is response is \"default\"\n",
    "    if response == \"default\":\n",
    "        return random.choice(responses[\"default\"])\n",
    "    if '{0}' in response:\n",
    "        # Replace the pronouns of phrase\n",
    "        phrase = replace_pronouns(message)\n",
    "        # Calculate the response\n",
    "        response = response.format(phrase)\n",
    "    return response"
   ]
  },
  {
   "cell_type": "code",
   "execution_count": 8,
   "metadata": {},
   "outputs": [],
   "source": [
    "def match_rule(rules, message):\n",
    "    for pattern, responses in rules.items():\n",
    "        match = re.search(pattern, message)\n",
    "        if match is not None:\n",
    "            response = random.choice(responses)\n",
    "            var = match.group(1) if '{0}' in response else None\n",
    "            return response, var\n",
    "    return \"default\", None\n",
    "\n",
    "rules = {'if (.*)': [\"Do you really think it's likely that {0}\", 'Do you wish that {0}', 'What do you think about {0}', 'Really--if {0}'], 'do you think (.*)': ['if {0}? Absolutely.', 'No chance'], 'I want (.*)': ['What would it mean if you got {0}', 'Why do you want {0}', \"What's stopping you from getting {0}\"], 'do you remember (.*)': ['Did you think I would forget {0}', \"Why haven't you been able to forget {0}\", 'What about {0}', 'Yes .. and?']}\n",
    "\n",
    "def replace_pronouns(message):\n",
    "\n",
    "    message = message.lower()\n",
    "    if re.search(r'\\bme\\b', message):\n",
    "        return re.sub(r'\\bme\\b', 'you', message)\n",
    "    if re.search(r\"\\b(i)\\b\", message):\n",
    "        return re.sub(r\"\\b(i)\\b\", 'you', message)\n",
    "    elif re.search(r'\\bmy\\b', message):\n",
    "        return re.sub(r'\\bmy\\b', 'your', message)\n",
    "    elif re.search(r'\\byour\\b', message):\n",
    "        return re.sub(r'\\byour\\b', 'my', message)\n",
    "    elif re.search(r'\\byou\\b', message):\n",
    "        return re.sub(r'\\byou\\b', 'me', message)\n",
    "    return message"
   ]
  },
  {
   "cell_type": "code",
   "execution_count": 9,
   "metadata": {},
   "outputs": [],
   "source": [
    "# Define the states\n",
    "INIT=0\n",
    "AUTHED=1\n",
    "STOCK_QUERY=2\n",
    "ORDERED=3\n",
    "END=4\n",
    "\n",
    "# Define the policy rules\n",
    "policy_rules = {\n",
    "    (INIT, \"stock_search\"): (INIT, \"you'll have to log in first, what's your phone number?\", AUTHED),\n",
    "    (INIT, \"number\"): (AUTHED, \"perfect, welcome! You can start searching stock information now. Here's the information you can search for: 1. latest price 2. latest volume 3. open price 4. close price 5. real time price\", None),\n",
    "    (AUTHED, \"stock_search\"): (AUTHED, \"Please tell me which stock you want to know.\", STOCK_QUERY),\n",
    "    (AUTHED, \"stock_search\"): (STOCK_QUERY, \"What information do you want to know?\", None),    \n",
    "    (STOCK_QUERY, \"stock_search\"): (ORDERED, \"Here's the information. What else do you need?\", None),\n",
    "    (ORDERED, \"stock_search\"): (STOCK_QUERY, \"What else do you want to know?\", None),\n",
    "    (ORDERED, \"stock_search\"): (ORDERED, \"What else do you want to know?\", None),\n",
    "    (ORDERED, \"end\"): (END, \"Byebye, hope to see you again!\", None),\n",
    "    (STOCK_QUERY, \"end\"): (END, \"Ok bye, hope to see you again!\", None),\n",
    "}"
   ]
  },
  {
   "cell_type": "code",
   "execution_count": 10,
   "metadata": {},
   "outputs": [],
   "source": [
    "#interpret user's intent and respond information he want to know\n",
    "def interpret(message):\n",
    "    msg = message.lower()\n",
    "    data = interpreter.parse(message)\n",
    "    intent = data[\"intent\"]['name']\n",
    "    global param\n",
    "    if any([d in message for d in string.digits]):\n",
    "        return 'number' \n",
    "    if intent == \"bye\":\n",
    "        return 'end'\n",
    "    if intent == \"thankyou\":\n",
    "        response = random.choice(responses[\"thankyou\"])\n",
    "        print(\"BOT : {}\".format(response))\n",
    "        return \"stock_search\"\n",
    "    if intent == \"stock_search\":\n",
    "        entities = data['entities']\n",
    "        for i in range(len(entities)):\n",
    "            if data['entities'][i]['entity'] == \"company\":\n",
    "                company = data['entities'][i][\"value\"]\n",
    "                param = company\n",
    "        if 'price' in message:\n",
    "            if ('latest' or 'newest') in message:\n",
    "                response = respond_latestPrice(param)\n",
    "                print(\"BOT : {}\".format(response))\n",
    "            elif 'open' in message:\n",
    "                response = respond_openPrice(param)\n",
    "                print(\"BOT : {}\".format(response))\n",
    "            elif 'close' in message:\n",
    "                response = respond_closePrice(param)\n",
    "                print(\"BOT : {}\".format(response))\n",
    "            else:\n",
    "                response = respond_realTimePrice(param)\n",
    "                print(\"BOT : {}\".format(response))\n",
    "        if 'volume' in message:\n",
    "            response = respond_latestVolume(param)\n",
    "            print(\"BOT : {}\".format(response))\n",
    "        return 'stock_search'  \n",
    "    return 'none'"
   ]
  },
  {
   "cell_type": "code",
   "execution_count": 11,
   "metadata": {},
   "outputs": [],
   "source": [
    "def respond_latestPrice(company):\n",
    "    aapl = Stock(company, token = \"pk_05a3d93860d54ae4a2c0f9a01ed362d5\")\n",
    "    info = str(aapl.get_quote()['latestPrice'])\n",
    "    bot_message =  \"Its latest price is \" + info +\"$\"\n",
    "    return bot_message\n",
    "    \n",
    "def respond_latestVolume(company):\n",
    "    aapl = Stock(company, token = \"pk_05a3d93860d54ae4a2c0f9a01ed362d5\")\n",
    "    info = str(aapl.get_quote()['latestVolume'])\n",
    "    bot_message =  \"Its latest volume is \" + info +\"$\"\n",
    "    return bot_message\n",
    "\n",
    "def respond_realTimePrice(company):\n",
    "    aapl = Stock(company, token = \"pk_05a3d93860d54ae4a2c0f9a01ed362d5\")\n",
    "    info = str(aapl.get_quote()['iexRealtimePrice'])\n",
    "    bot_message =  \"Its real time price is \" + info +\"$\"\n",
    "    return bot_message\n",
    "\n",
    "def respond_openPrice(company):\n",
    "    aapl = Stock(company, token = \"pk_05a3d93860d54ae4a2c0f9a01ed362d5\")\n",
    "    info = str(aapl.get_quote()['open'])\n",
    "    bot_message =  \"Its open price is \" + info +\"$\"\n",
    "    return bot_message\n",
    "\n",
    "def respond_closePrice(company):\n",
    "    aapl = Stock(company, token = \"pk_05a3d93860d54ae4a2c0f9a01ed362d5\")\n",
    "    info = str(aapl.get_quote()['close'])\n",
    "    bot_message =  \"Its close price is \" + info +\"$\"\n",
    "    return bot_message"
   ]
  },
  {
   "cell_type": "code",
   "execution_count": 12,
   "metadata": {},
   "outputs": [],
   "source": [
    "# Define send_message()\n",
    "def send_message(state, pending, message):\n",
    "    response, var = match_rule(rules, message)\n",
    "    print(\"USER : {}\".format(message))\n",
    "    if (response == \"default\"):\n",
    "        pass\n",
    "    else:\n",
    "        response = chitchat_response(message)\n",
    "        print(\"BOT : {}\".format(response))\n",
    "    data = interpreter.parse(message)\n",
    "    intent = data[\"intent\"]['name']\n",
    "    if (intent == \"greet\") or (intent == \"ask_usage\") or (intent == \"default\"):\n",
    "        new_state = INIT\n",
    "        pending = None\n",
    "        response = respond(message)\n",
    "        print(\"BOT : {}\".format(response))\n",
    "    # Calculate the new_state, response, and pending_state\n",
    "    else:\n",
    "        new_state, response, pending_state = policy_rules[(state, interpret(message))]\n",
    "        print(\"BOT : {}\".format(response))\n",
    "        if pending is not None:\n",
    "            new_state, response, pending_state =policy_rules[pending]\n",
    "            print(\"BOT : {}\".format(response))        \n",
    "        if pending_state is not None:\n",
    "            pending = (pending_state, interpret(message))\n",
    "    return new_state, pending, response\n",
    "\n",
    "# Define send_messages()\n",
    "def send_messages(messages):\n",
    "    state = INIT\n",
    "    pending = None\n",
    "    for msg in messages:\n",
    "        state, pending, response = send_message(state, pending, msg)"
   ]
  },
  {
   "cell_type": "code",
   "execution_count": 13,
   "metadata": {},
   "outputs": [
    {
     "name": "stdout",
     "output_type": "stream",
     "text": [
      "USER : hi\n",
      "BOT : Nice to meet you!\n",
      "USER : what can you do\n",
      "BOT : I am a robot that help you search for stock information.\n",
      "USER : I want to search some info about stock\n",
      "BOT : What's stopping you from getting you want to search some info about stock\n",
      "BOT : you'll have to log in first, what's your phone number?\n",
      "USER : 555-12345\n",
      "BOT : perfect, welcome! You can start searching stock information now. Here's the information you can search for: 1. latest price 2. latest volume 3. open price 4. close price 5. real time price\n",
      "BOT : What information do you want to know?\n",
      "USER : Show me AAPL's latest price\n",
      "BOT : Its latest price is 206.5$\n",
      "BOT : Here's the information. What else do you need?\n",
      "BOT : What information do you want to know?\n",
      "USER : and its real time price\n",
      "BOT : Its real time price is None$\n",
      "BOT : Here's the information. What else do you need?\n",
      "BOT : What information do you want to know?\n",
      "USER : thank you\n",
      "BOT : You are welcome! Do you need more information?\n",
      "BOT : Here's the information. What else do you need?\n",
      "BOT : What information do you want to know?\n",
      "USER : I want to know goog's open price\n",
      "BOT : Why do you want you want to know goog's open price\n",
      "BOT : Its open price is 1179.55$\n",
      "BOT : Here's the information. What else do you need?\n",
      "BOT : What information do you want to know?\n",
      "USER : and its real time price\n",
      "BOT : Its real time price is None$\n",
      "BOT : Here's the information. What else do you need?\n",
      "BOT : What information do you want to know?\n",
      "USER : that's it\n",
      "BOT : Ok bye, hope to see you again!\n",
      "BOT : What information do you want to know?\n",
      "USER : bye\n",
      "BOT : Ok bye, hope to see you again!\n",
      "BOT : What information do you want to know?\n"
     ]
    }
   ],
   "source": [
    "# Send the messages\n",
    "send_messages([\n",
    "    \"hi\",\n",
    "    \"what can you do\",\n",
    "    \"I want to search some info about stock\",\n",
    "    \"555-12345\",\n",
    "    \"Show me AAPL's latest price\",\n",
    "    \"and its real time price\",\n",
    "    \"thank you\",\n",
    "    \"I want to know goog's open price\",\n",
    "    \"and its real time price\",\n",
    "    \"that's it\",\n",
    "    \"bye\"\n",
    "])"
   ]
  },
  {
   "cell_type": "code",
   "execution_count": 17,
   "metadata": {},
   "outputs": [
    {
     "name": "stderr",
     "output_type": "stream",
     "text": [
      "Getting uuid of QR code.\n",
      "Downloading QR code.\n",
      "Please scan the QR code to log in.\n",
      "Please press confirm on your phone.\n",
      "Loading the contact, this may take a little while.\n"
     ]
    },
    {
     "ename": "KeyError",
     "evalue": "'pass_ticket'",
     "output_type": "error",
     "traceback": [
      "\u001b[0;31m---------------------------------------------------------------------------\u001b[0m",
      "\u001b[0;31mKeyError\u001b[0m                                  Traceback (most recent call last)",
      "\u001b[0;32m<ipython-input-17-7852d5419a0b>\u001b[0m in \u001b[0;36m<module>\u001b[0;34m\u001b[0m\n\u001b[0;32m----> 1\u001b[0;31m \u001b[0mbot\u001b[0m \u001b[0;34m=\u001b[0m \u001b[0mBot\u001b[0m\u001b[0;34m(\u001b[0m\u001b[0;34m)\u001b[0m\u001b[0;34m\u001b[0m\u001b[0;34m\u001b[0m\u001b[0m\n\u001b[0m\u001b[1;32m      2\u001b[0m \u001b[0mmy_friend\u001b[0m \u001b[0;34m=\u001b[0m \u001b[0mbot\u001b[0m\u001b[0;34m.\u001b[0m\u001b[0mfriends\u001b[0m\u001b[0;34m(\u001b[0m\u001b[0;34m)\u001b[0m\u001b[0;34m.\u001b[0m\u001b[0msearch\u001b[0m\u001b[0;34m(\u001b[0m\u001b[0;34m'洁'\u001b[0m\u001b[0;34m,\u001b[0m \u001b[0msex\u001b[0m\u001b[0;34m=\u001b[0m\u001b[0mFEMALE\u001b[0m\u001b[0;34m,\u001b[0m \u001b[0mcity\u001b[0m\u001b[0;34m=\u001b[0m\u001b[0;34m\"上海\"\u001b[0m\u001b[0;34m)\u001b[0m\u001b[0;34m\u001b[0m\u001b[0;34m\u001b[0m\u001b[0m\n",
      "\u001b[0;32m~/anaconda3/lib/python3.7/site-packages/wxpy/api/bot.py\u001b[0m in \u001b[0;36m__init__\u001b[0;34m(self, cache_path, console_qr, qr_path, qr_callback, login_callback, logout_callback)\u001b[0m\n\u001b[1;32m     84\u001b[0m                 \u001b[0mhotReload\u001b[0m\u001b[0;34m=\u001b[0m\u001b[0mbool\u001b[0m\u001b[0;34m(\u001b[0m\u001b[0mcache_path\u001b[0m\u001b[0;34m)\u001b[0m\u001b[0;34m,\u001b[0m \u001b[0mstatusStorageDir\u001b[0m\u001b[0;34m=\u001b[0m\u001b[0mcache_path\u001b[0m\u001b[0;34m,\u001b[0m\u001b[0;34m\u001b[0m\u001b[0;34m\u001b[0m\u001b[0m\n\u001b[1;32m     85\u001b[0m                 \u001b[0menableCmdQR\u001b[0m\u001b[0;34m=\u001b[0m\u001b[0mconsole_qr\u001b[0m\u001b[0;34m,\u001b[0m \u001b[0mpicDir\u001b[0m\u001b[0;34m=\u001b[0m\u001b[0mqr_path\u001b[0m\u001b[0;34m,\u001b[0m \u001b[0mqrCallback\u001b[0m\u001b[0;34m=\u001b[0m\u001b[0mqr_callback\u001b[0m\u001b[0;34m,\u001b[0m\u001b[0;34m\u001b[0m\u001b[0;34m\u001b[0m\u001b[0m\n\u001b[0;32m---> 86\u001b[0;31m                 \u001b[0mloginCallback\u001b[0m\u001b[0;34m=\u001b[0m\u001b[0mlogin_callback\u001b[0m\u001b[0;34m,\u001b[0m \u001b[0mexitCallback\u001b[0m\u001b[0;34m=\u001b[0m\u001b[0mlogout_callback\u001b[0m\u001b[0;34m\u001b[0m\u001b[0;34m\u001b[0m\u001b[0m\n\u001b[0m\u001b[1;32m     87\u001b[0m             )\n\u001b[1;32m     88\u001b[0m         \u001b[0;32mexcept\u001b[0m \u001b[0mFileNotFoundError\u001b[0m \u001b[0;32mas\u001b[0m \u001b[0me\u001b[0m\u001b[0;34m:\u001b[0m\u001b[0;34m\u001b[0m\u001b[0;34m\u001b[0m\u001b[0m\n",
      "\u001b[0;32m~/anaconda3/lib/python3.7/site-packages/itchat/components/register.py\u001b[0m in \u001b[0;36mauto_login\u001b[0;34m(self, hotReload, statusStorageDir, enableCmdQR, picDir, qrCallback, loginCallback, exitCallback)\u001b[0m\n\u001b[1;32m     33\u001b[0m     \u001b[0;32melse\u001b[0m\u001b[0;34m:\u001b[0m\u001b[0;34m\u001b[0m\u001b[0;34m\u001b[0m\u001b[0m\n\u001b[1;32m     34\u001b[0m         self.login(enableCmdQR=enableCmdQR, picDir=picDir, qrCallback=qrCallback,\n\u001b[0;32m---> 35\u001b[0;31m             loginCallback=loginCallback, exitCallback=exitCallback)\n\u001b[0m\u001b[1;32m     36\u001b[0m \u001b[0;34m\u001b[0m\u001b[0m\n\u001b[1;32m     37\u001b[0m \u001b[0;32mdef\u001b[0m \u001b[0mconfigured_reply\u001b[0m\u001b[0;34m(\u001b[0m\u001b[0mself\u001b[0m\u001b[0;34m)\u001b[0m\u001b[0;34m:\u001b[0m\u001b[0;34m\u001b[0m\u001b[0;34m\u001b[0m\u001b[0m\n",
      "\u001b[0;32m~/anaconda3/lib/python3.7/site-packages/itchat/components/login.py\u001b[0m in \u001b[0;36mlogin\u001b[0;34m(self, enableCmdQR, picDir, qrCallback, loginCallback, exitCallback)\u001b[0m\n\u001b[1;32m     64\u001b[0m     \u001b[0mlogger\u001b[0m\u001b[0;34m.\u001b[0m\u001b[0minfo\u001b[0m\u001b[0;34m(\u001b[0m\u001b[0;34m'Loading the contact, this may take a little while.'\u001b[0m\u001b[0;34m)\u001b[0m\u001b[0;34m\u001b[0m\u001b[0;34m\u001b[0m\u001b[0m\n\u001b[1;32m     65\u001b[0m     \u001b[0mself\u001b[0m\u001b[0;34m.\u001b[0m\u001b[0mweb_init\u001b[0m\u001b[0;34m(\u001b[0m\u001b[0;34m)\u001b[0m\u001b[0;34m\u001b[0m\u001b[0;34m\u001b[0m\u001b[0m\n\u001b[0;32m---> 66\u001b[0;31m     \u001b[0mself\u001b[0m\u001b[0;34m.\u001b[0m\u001b[0mshow_mobile_login\u001b[0m\u001b[0;34m(\u001b[0m\u001b[0;34m)\u001b[0m\u001b[0;34m\u001b[0m\u001b[0;34m\u001b[0m\u001b[0m\n\u001b[0m\u001b[1;32m     67\u001b[0m     \u001b[0mself\u001b[0m\u001b[0;34m.\u001b[0m\u001b[0mget_contact\u001b[0m\u001b[0;34m(\u001b[0m\u001b[0;32mTrue\u001b[0m\u001b[0;34m)\u001b[0m\u001b[0;34m\u001b[0m\u001b[0;34m\u001b[0m\u001b[0m\n\u001b[1;32m     68\u001b[0m     \u001b[0;32mif\u001b[0m \u001b[0mhasattr\u001b[0m\u001b[0;34m(\u001b[0m\u001b[0mloginCallback\u001b[0m\u001b[0;34m,\u001b[0m \u001b[0;34m'__call__'\u001b[0m\u001b[0;34m)\u001b[0m\u001b[0;34m:\u001b[0m\u001b[0;34m\u001b[0m\u001b[0;34m\u001b[0m\u001b[0m\n",
      "\u001b[0;32m~/anaconda3/lib/python3.7/site-packages/itchat/components/login.py\u001b[0m in \u001b[0;36mshow_mobile_login\u001b[0;34m(self)\u001b[0m\n\u001b[1;32m    210\u001b[0m \u001b[0;32mdef\u001b[0m \u001b[0mshow_mobile_login\u001b[0m\u001b[0;34m(\u001b[0m\u001b[0mself\u001b[0m\u001b[0;34m)\u001b[0m\u001b[0;34m:\u001b[0m\u001b[0;34m\u001b[0m\u001b[0;34m\u001b[0m\u001b[0m\n\u001b[1;32m    211\u001b[0m     url = '%s/webwxstatusnotify?lang=zh_CN&pass_ticket=%s' % (\n\u001b[0;32m--> 212\u001b[0;31m         self.loginInfo['url'], self.loginInfo['pass_ticket'])\n\u001b[0m\u001b[1;32m    213\u001b[0m     data = {\n\u001b[1;32m    214\u001b[0m         \u001b[0;34m'BaseRequest'\u001b[0m  \u001b[0;34m:\u001b[0m \u001b[0mself\u001b[0m\u001b[0;34m.\u001b[0m\u001b[0mloginInfo\u001b[0m\u001b[0;34m[\u001b[0m\u001b[0;34m'BaseRequest'\u001b[0m\u001b[0;34m]\u001b[0m\u001b[0;34m,\u001b[0m\u001b[0;34m\u001b[0m\u001b[0;34m\u001b[0m\u001b[0m\n",
      "\u001b[0;31mKeyError\u001b[0m: 'pass_ticket'"
     ]
    }
   ],
   "source": [
    "bot = Bot()\n",
    "my_friend = bot.friends().search('洁', sex=FEMALE, city=\"上海\")"
   ]
  },
  {
   "cell_type": "code",
   "execution_count": 15,
   "metadata": {},
   "outputs": [
    {
     "ename": "NameError",
     "evalue": "name 'bot' is not defined",
     "output_type": "error",
     "traceback": [
      "\u001b[0;31m---------------------------------------------------------------------------\u001b[0m",
      "\u001b[0;31mNameError\u001b[0m                                 Traceback (most recent call last)",
      "\u001b[0;32m<ipython-input-15-48aefd731bfd>\u001b[0m in \u001b[0;36m<module>\u001b[0;34m\u001b[0m\n\u001b[0;32m----> 1\u001b[0;31m \u001b[0;34m@\u001b[0m\u001b[0mbot\u001b[0m\u001b[0;34m.\u001b[0m\u001b[0mregister\u001b[0m\u001b[0;34m(\u001b[0m\u001b[0mmy_friend\u001b[0m\u001b[0;34m)\u001b[0m\u001b[0;34m\u001b[0m\u001b[0;34m\u001b[0m\u001b[0m\n\u001b[0m\u001b[1;32m      2\u001b[0m \u001b[0;32mdef\u001b[0m \u001b[0mrespond_friend\u001b[0m\u001b[0;34m(\u001b[0m\u001b[0mmessage\u001b[0m\u001b[0;34m)\u001b[0m\u001b[0;34m:\u001b[0m\u001b[0;34m\u001b[0m\u001b[0;34m\u001b[0m\u001b[0m\n\u001b[1;32m      3\u001b[0m     \u001b[0mstate\u001b[0m \u001b[0;34m=\u001b[0m \u001b[0mINIT\u001b[0m\u001b[0;34m\u001b[0m\u001b[0;34m\u001b[0m\u001b[0m\n\u001b[1;32m      4\u001b[0m     \u001b[0mpending\u001b[0m \u001b[0;34m=\u001b[0m \u001b[0;32mNone\u001b[0m\u001b[0;34m\u001b[0m\u001b[0;34m\u001b[0m\u001b[0m\n\u001b[1;32m      5\u001b[0m     \u001b[0mstate\u001b[0m\u001b[0;34m,\u001b[0m \u001b[0mpending\u001b[0m\u001b[0;34m,\u001b[0m \u001b[0mresponse\u001b[0m \u001b[0;34m=\u001b[0m \u001b[0msend_message\u001b[0m\u001b[0;34m(\u001b[0m\u001b[0mstate\u001b[0m\u001b[0;34m,\u001b[0m \u001b[0mpending\u001b[0m\u001b[0;34m,\u001b[0m \u001b[0mmessage\u001b[0m\u001b[0;34m)\u001b[0m\u001b[0;34m\u001b[0m\u001b[0;34m\u001b[0m\u001b[0m\n",
      "\u001b[0;31mNameError\u001b[0m: name 'bot' is not defined"
     ]
    }
   ],
   "source": [
    "@bot.register(my_friend)\n",
    "def respond_friend(message):\n",
    "    state = INIT\n",
    "    pending = None\n",
    "    state, pending, response = send_message(state, pending, message)\n",
    "    message.reply(response)\n",
    "    return None"
   ]
  },
  {
   "cell_type": "code",
   "execution_count": null,
   "metadata": {},
   "outputs": [],
   "source": []
  }
 ],
 "metadata": {
  "kernelspec": {
   "display_name": "Python 3",
   "language": "python",
   "name": "python3"
  },
  "language_info": {
   "codemirror_mode": {
    "name": "ipython",
    "version": 3
   },
   "file_extension": ".py",
   "mimetype": "text/x-python",
   "name": "python",
   "nbconvert_exporter": "python",
   "pygments_lexer": "ipython3",
   "version": "3.7.3"
  }
 },
 "nbformat": 4,
 "nbformat_minor": 2
}
